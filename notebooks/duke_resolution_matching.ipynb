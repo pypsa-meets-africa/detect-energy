{
  "nbformat": 4,
  "nbformat_minor": 0,
  "metadata": {
    "colab": {
      "name": "duke_resolution_matching.ipynb",
      "provenance": []
    },
    "kernelspec": {
      "name": "python3",
      "display_name": "Python 3"
    },
    "language_info": {
      "name": "python"
    }
  },
  "cells": [
    {
      "cell_type": "code",
      "execution_count": 2,
      "metadata": {
        "colab": {
          "base_uri": "https://localhost:8080/"
        },
        "id": "hUdmrbidQiFw",
        "outputId": "f69c8c5b-381a-47a9-f50a-1f24ed0cdf71"
      },
      "outputs": [
        {
          "output_type": "stream",
          "name": "stdout",
          "text": [
            "Mounted at /content/drive/\n"
          ]
        }
      ],
      "source": [
        "from google.colab import drive\n",
        "drive.mount('/content/drive/')"
      ]
    },
    {
      "cell_type": "code",
      "source": [
        "!pip install geopandas\n",
        "!pip install rasterio\n",
        "!pip install attrdict\n",
        "!pip install utm"
      ],
      "metadata": {
        "colab": {
          "base_uri": "https://localhost:8080/"
        },
        "id": "jLsV7jX2QwDp",
        "outputId": "2c9fba74-9cf1-4c63-8647-bb913ae5da54"
      },
      "execution_count": 3,
      "outputs": [
        {
          "output_type": "stream",
          "name": "stdout",
          "text": [
            "Looking in indexes: https://pypi.org/simple, https://us-python.pkg.dev/colab-wheels/public/simple/\n",
            "Collecting geopandas\n",
            "  Downloading geopandas-0.10.2-py2.py3-none-any.whl (1.0 MB)\n",
            "\u001b[K     |████████████████████████████████| 1.0 MB 19.1 MB/s \n",
            "\u001b[?25hCollecting pyproj>=2.2.0\n",
            "  Downloading pyproj-3.2.1-cp37-cp37m-manylinux2010_x86_64.whl (6.3 MB)\n",
            "\u001b[K     |████████████████████████████████| 6.3 MB 45.0 MB/s \n",
            "\u001b[?25hRequirement already satisfied: shapely>=1.6 in /usr/local/lib/python3.7/dist-packages (from geopandas) (1.8.2)\n",
            "Requirement already satisfied: pandas>=0.25.0 in /usr/local/lib/python3.7/dist-packages (from geopandas) (1.3.5)\n",
            "Collecting fiona>=1.8\n",
            "  Downloading Fiona-1.8.21-cp37-cp37m-manylinux2014_x86_64.whl (16.7 MB)\n",
            "\u001b[K     |████████████████████████████████| 16.7 MB 348 kB/s \n",
            "\u001b[?25hRequirement already satisfied: certifi in /usr/local/lib/python3.7/dist-packages (from fiona>=1.8->geopandas) (2022.5.18.1)\n",
            "Collecting cligj>=0.5\n",
            "  Downloading cligj-0.7.2-py3-none-any.whl (7.1 kB)\n",
            "Collecting click-plugins>=1.0\n",
            "  Downloading click_plugins-1.1.1-py2.py3-none-any.whl (7.5 kB)\n",
            "Requirement already satisfied: attrs>=17 in /usr/local/lib/python3.7/dist-packages (from fiona>=1.8->geopandas) (21.4.0)\n",
            "Requirement already satisfied: setuptools in /usr/local/lib/python3.7/dist-packages (from fiona>=1.8->geopandas) (57.4.0)\n",
            "Requirement already satisfied: six>=1.7 in /usr/local/lib/python3.7/dist-packages (from fiona>=1.8->geopandas) (1.15.0)\n",
            "Requirement already satisfied: click>=4.0 in /usr/local/lib/python3.7/dist-packages (from fiona>=1.8->geopandas) (7.1.2)\n",
            "Collecting munch\n",
            "  Downloading munch-2.5.0-py2.py3-none-any.whl (10 kB)\n",
            "Requirement already satisfied: numpy>=1.17.3 in /usr/local/lib/python3.7/dist-packages (from pandas>=0.25.0->geopandas) (1.21.6)\n",
            "Requirement already satisfied: python-dateutil>=2.7.3 in /usr/local/lib/python3.7/dist-packages (from pandas>=0.25.0->geopandas) (2.8.2)\n",
            "Requirement already satisfied: pytz>=2017.3 in /usr/local/lib/python3.7/dist-packages (from pandas>=0.25.0->geopandas) (2022.1)\n",
            "Installing collected packages: munch, cligj, click-plugins, pyproj, fiona, geopandas\n",
            "Successfully installed click-plugins-1.1.1 cligj-0.7.2 fiona-1.8.21 geopandas-0.10.2 munch-2.5.0 pyproj-3.2.1\n",
            "Looking in indexes: https://pypi.org/simple, https://us-python.pkg.dev/colab-wheels/public/simple/\n",
            "Collecting rasterio\n",
            "  Downloading rasterio-1.2.10-cp37-cp37m-manylinux1_x86_64.whl (19.3 MB)\n",
            "\u001b[K     |████████████████████████████████| 19.3 MB 4.3 MB/s \n",
            "\u001b[?25hRequirement already satisfied: click-plugins in /usr/local/lib/python3.7/dist-packages (from rasterio) (1.1.1)\n",
            "Requirement already satisfied: click>=4.0 in /usr/local/lib/python3.7/dist-packages (from rasterio) (7.1.2)\n",
            "Requirement already satisfied: numpy in /usr/local/lib/python3.7/dist-packages (from rasterio) (1.21.6)\n",
            "Requirement already satisfied: attrs in /usr/local/lib/python3.7/dist-packages (from rasterio) (21.4.0)\n",
            "Requirement already satisfied: cligj>=0.5 in /usr/local/lib/python3.7/dist-packages (from rasterio) (0.7.2)\n",
            "Requirement already satisfied: setuptools in /usr/local/lib/python3.7/dist-packages (from rasterio) (57.4.0)\n",
            "Collecting affine\n",
            "  Downloading affine-2.3.1-py2.py3-none-any.whl (16 kB)\n",
            "Requirement already satisfied: certifi in /usr/local/lib/python3.7/dist-packages (from rasterio) (2022.5.18.1)\n",
            "Collecting snuggs>=1.4.1\n",
            "  Downloading snuggs-1.4.7-py3-none-any.whl (5.4 kB)\n",
            "Requirement already satisfied: pyparsing>=2.1.6 in /usr/local/lib/python3.7/dist-packages (from snuggs>=1.4.1->rasterio) (3.0.9)\n",
            "Installing collected packages: snuggs, affine, rasterio\n",
            "Successfully installed affine-2.3.1 rasterio-1.2.10 snuggs-1.4.7\n",
            "Looking in indexes: https://pypi.org/simple, https://us-python.pkg.dev/colab-wheels/public/simple/\n",
            "Collecting attrdict\n",
            "  Downloading attrdict-2.0.1-py2.py3-none-any.whl (9.9 kB)\n",
            "Requirement already satisfied: six in /usr/local/lib/python3.7/dist-packages (from attrdict) (1.15.0)\n",
            "Installing collected packages: attrdict\n",
            "Successfully installed attrdict-2.0.1\n",
            "Looking in indexes: https://pypi.org/simple, https://us-python.pkg.dev/colab-wheels/public/simple/\n",
            "Collecting utm\n",
            "  Downloading utm-0.7.0.tar.gz (8.7 kB)\n",
            "Building wheels for collected packages: utm\n",
            "  Building wheel for utm (setup.py) ... \u001b[?25l\u001b[?25hdone\n",
            "  Created wheel for utm: filename=utm-0.7.0-py3-none-any.whl size=6108 sha256=38b91bb0d054826bad6b3fe441fc237de9b56694d818d92cd8fa6341e4b920ff\n",
            "  Stored in directory: /root/.cache/pip/wheels/a5/b0/12/7ee4fdb0f9fbb4157100bd02390436ed5d58ebfd3c6d6a0886\n",
            "Successfully built utm\n",
            "Installing collected packages: utm\n",
            "Successfully installed utm-0.7.0\n"
          ]
        }
      ]
    },
    {
      "cell_type": "code",
      "source": [
        "from osgeo import gdal\n",
        "from attrdict import AttrDict\n",
        "import utm\n",
        "from pyproj import CRS\n",
        "import os\n",
        "from pprint import pprint\n",
        "\n",
        "def get_resolution(filename):\n",
        "    '''\n",
        "    obtains the pixel size in meters of passed raster file\n",
        "\n",
        "    Args:\n",
        "        filename(str): name of raster file to be investigated\n",
        "    '''\n",
        "\n",
        "    tiffile = filename.split('/')[-1]\n",
        "    dummypath = filename.split('/')[:-1]\n",
        "    dummypath = '/'.join(dummypath)\n",
        "\n",
        "    info = gdal.Info(filename, format='json')\n",
        "\n",
        "    epsg = int(info['coordinateSystem']['wkt'].split('\"EPSG\",\"', 1)[-1].split('\"')[0])\n",
        "\n",
        "    if epsg != 4326:\n",
        "        dummyfile = os.path.join(dummypath, 'epsgdummy.tif')\n",
        "        warp = gdal.Warp(dummyfile, filename, dstSRS='EPSG:4326')\n",
        "        warp = None \n",
        "        filename = dummyfile\n",
        "        info = gdal.Info(filename, format='json')\n",
        "\n",
        "    # print(f'initial epsg: {epsg}')\n",
        "\n",
        "    info = AttrDict(info)\n",
        "\n",
        "    center = info.cornerCoordinates.center\n",
        "    if center[1] > 0:\n",
        "        south = True\n",
        "    else:\n",
        "        south = False\n",
        "    \n",
        "    as_utm = utm.from_latlon(center[1], center[0])\n",
        "    \n",
        "    crs = CRS.from_dict({'proj': 'utm', 'zone': as_utm[2], 'south': south})\n",
        "\n",
        "    epsg = crs.to_authority()\n",
        "\n",
        "    utmpath = os.path.join(duke_path, 'sudan', 'lab', 'dummy.tif')\n",
        "    utmpath = os.path.join(dummypath, 'utmdummy.tif')\n",
        "\n",
        "    warp = gdal.Warp(utmpath, filename, dstSRS=epsg[0]+':'+epsg[1])\n",
        "    warp = None \n",
        "\n",
        "    info = AttrDict(gdal.Info(utmpath, format='json'))\n",
        "    pixel_size = info.geoTransform[1]\n",
        "\n",
        "    os.remove(utmpath)\n",
        "    try:\n",
        "        os.remove(dummyfile)\n",
        "    except UnboundLocalError:\n",
        "        pass\n",
        "\n",
        "    return pixel_size\n",
        "\n",
        "\n",
        "\n",
        "base_path = '/content/drive/MyDrive/PyPSA_Africa_images/'\n",
        "duke_path = os.path.join(base_path, 'duke')\n",
        "countries = os.listdir(os.path.join(duke_path))\n",
        "\n",
        "# imgs = os.path.join(base_path, 'maxar', 'chad', 'raw')\n",
        "\n",
        "for country in countries:\n",
        "    files = os.listdir(os.path.join(duke_path, country, 'raw'))\n",
        "    files = [file for file in files if file.endswith('.tif') and 'multiclass' not in file]\n",
        "    files = [file for file in files if os.stat(os.path.join(duke_path, country, 'raw', file)).st_size > 1_000_000]\n",
        "\n",
        "    filename = os.path.join(duke_path, country, 'raw', files[0])\n",
        "\n",
        "    resolution = get_resolution(filename)\n",
        "    \n",
        "    print(f'Resolution of {country}: {resolution} m/pixel')\n"
      ],
      "metadata": {
        "colab": {
          "base_uri": "https://localhost:8080/"
        },
        "id": "bzlNRp7CTU0f",
        "outputId": "1dd379a5-440e-4bf0-ef00-e50436f79d42"
      },
      "execution_count": 1,
      "outputs": [
        {
          "output_type": "stream",
          "name": "stdout",
          "text": [
            "Resolution of arizona: 0.1521273311113449 m/pixel\n",
            "Resolution of sudan: 0.2941356391155026 m/pixel\n",
            "Resolution of china: 0.2789294695267606 m/pixel\n",
            "Resolution of rotorua: 0.1254966590856217 m/pixel\n",
            "Resolution of brazil: 0.4787769055150278 m/pixel\n",
            "Resolution of hartford: 0.0761820560981825 m/pixel\n",
            "Resolution of mexico: 0.1522336654793647 m/pixel\n",
            "Resolution of kansas: 0.1520310125331718 m/pixel\n",
            "Resolution of clyde: 0.1535755375821943 m/pixel\n",
            "Resolution of wilmington: 0.1522415121091316 m/pixel\n",
            "Resolution of dunedin: 0.1229411434163525 m/pixel\n",
            "Resolution of gisborne: 0.1253881937589445 m/pixel\n",
            "Resolution of palmertson: 0.1255661866324052 m/pixel\n",
            "Resolution of tauranga: 0.1254967811385344 m/pixel\n"
          ]
        }
      ]
    }
  ]
}
